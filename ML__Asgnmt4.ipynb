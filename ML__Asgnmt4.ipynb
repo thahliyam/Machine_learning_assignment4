{
 "cells": [
  {
   "cell_type": "code",
   "execution_count": 690,
   "id": "32bf8b57-9d1a-4657-9c90-b7a3b84caad8",
   "metadata": {},
   "outputs": [],
   "source": [
    "import warnings\n",
    "warnings.filterwarnings(\"ignore\")"
   ]
  },
  {
   "cell_type": "code",
   "execution_count": 691,
   "id": "0be07fcb-99c3-40b0-8c3c-b4a465dea58b",
   "metadata": {},
   "outputs": [],
   "source": [
    "from sklearn.datasets import load_breast_cancer\n",
    "from sklearn.model_selection import train_test_split\n",
    "from sklearn.preprocessing import StandardScaler\n",
    "from sklearn.linear_model import LogisticRegression\n",
    "from sklearn.tree import DecisionTreeClassifier\n",
    "from sklearn.ensemble import RandomForestClassifier\n",
    "from sklearn.model_selection import train_test_split\n",
    "from sklearn.svm import SVC\n",
    "import pandas as pd\n",
    "from sklearn.metrics import accuracy_score, precision_score, recall_score, f1_score, confusion_matrix, classification_report\n",
    "from imblearn.over_sampling import SMOTE \n",
    "import seaborn as sns\n",
    "import matplotlib.pyplot as plt\n",
    "from sklearn.neighbors import KNeighborsClassifier\n",
    "from sklearn.metrics import accuracy_score, precision_score, recall_score, f1_score, confusion_matrix, classification_report "
   ]
  },
  {
   "cell_type": "markdown",
   "id": "2fb17f04-7f96-4177-bdbf-929b4086c08a",
   "metadata": {},
   "source": [
    "# 1. Load Dataset and preprocessing"
   ]
  },
  {
   "cell_type": "code",
   "execution_count": 693,
   "id": "bc50a6aa-127b-4121-b1b4-9d8330a3985b",
   "metadata": {},
   "outputs": [
    {
     "name": "stdout",
     "output_type": "stream",
     "text": [
      "Dataset loaded successfully.\n"
     ]
    }
   ],
   "source": [
    "data = load_breast_cancer()\n",
    "df = pd.DataFrame(data.data, columns=data.feature_names)\n",
    "print(\"Dataset loaded successfully.\")\n",
    "df['target'] = data.target\n"
   ]
  },
  {
   "cell_type": "code",
   "execution_count": 694,
   "id": "41b987c2-6d06-4ba3-9e17-ee3e839915b8",
   "metadata": {},
   "outputs": [
    {
     "name": "stdout",
     "output_type": "stream",
     "text": [
      "Shape of the dataset:\n",
      "(569, 31)\n"
     ]
    }
   ],
   "source": [
    "print(\"Shape of the dataset:\")\n",
    "print(df.shape)"
   ]
  },
  {
   "cell_type": "code",
   "execution_count": 695,
   "id": "d29e3c20-5ccc-45ec-8b94-80bda49b9ba9",
   "metadata": {},
   "outputs": [
    {
     "name": "stdout",
     "output_type": "stream",
     "text": [
      "Dataset Info:\n",
      "<class 'pandas.core.frame.DataFrame'>\n",
      "RangeIndex: 569 entries, 0 to 568\n",
      "Data columns (total 31 columns):\n",
      " #   Column                   Non-Null Count  Dtype  \n",
      "---  ------                   --------------  -----  \n",
      " 0   mean radius              569 non-null    float64\n",
      " 1   mean texture             569 non-null    float64\n",
      " 2   mean perimeter           569 non-null    float64\n",
      " 3   mean area                569 non-null    float64\n",
      " 4   mean smoothness          569 non-null    float64\n",
      " 5   mean compactness         569 non-null    float64\n",
      " 6   mean concavity           569 non-null    float64\n",
      " 7   mean concave points      569 non-null    float64\n",
      " 8   mean symmetry            569 non-null    float64\n",
      " 9   mean fractal dimension   569 non-null    float64\n",
      " 10  radius error             569 non-null    float64\n",
      " 11  texture error            569 non-null    float64\n",
      " 12  perimeter error          569 non-null    float64\n",
      " 13  area error               569 non-null    float64\n",
      " 14  smoothness error         569 non-null    float64\n",
      " 15  compactness error        569 non-null    float64\n",
      " 16  concavity error          569 non-null    float64\n",
      " 17  concave points error     569 non-null    float64\n",
      " 18  symmetry error           569 non-null    float64\n",
      " 19  fractal dimension error  569 non-null    float64\n",
      " 20  worst radius             569 non-null    float64\n",
      " 21  worst texture            569 non-null    float64\n",
      " 22  worst perimeter          569 non-null    float64\n",
      " 23  worst area               569 non-null    float64\n",
      " 24  worst smoothness         569 non-null    float64\n",
      " 25  worst compactness        569 non-null    float64\n",
      " 26  worst concavity          569 non-null    float64\n",
      " 27  worst concave points     569 non-null    float64\n",
      " 28  worst symmetry           569 non-null    float64\n",
      " 29  worst fractal dimension  569 non-null    float64\n",
      " 30  target                   569 non-null    int32  \n",
      "dtypes: float64(30), int32(1)\n",
      "memory usage: 135.7 KB\n",
      "None\n"
     ]
    }
   ],
   "source": [
    "print(\"Dataset Info:\")\n",
    "print(df.info())"
   ]
  },
  {
   "cell_type": "code",
   "execution_count": 696,
   "id": "5311a64a-0d82-4833-9c38-22e65e3abbae",
   "metadata": {},
   "outputs": [
    {
     "name": "stdout",
     "output_type": "stream",
     "text": [
      "Missing values in each colum:\n",
      " mean radius                0\n",
      "mean texture               0\n",
      "mean perimeter             0\n",
      "mean area                  0\n",
      "mean smoothness            0\n",
      "mean compactness           0\n",
      "mean concavity             0\n",
      "mean concave points        0\n",
      "mean symmetry              0\n",
      "mean fractal dimension     0\n",
      "radius error               0\n",
      "texture error              0\n",
      "perimeter error            0\n",
      "area error                 0\n",
      "smoothness error           0\n",
      "compactness error          0\n",
      "concavity error            0\n",
      "concave points error       0\n",
      "symmetry error             0\n",
      "fractal dimension error    0\n",
      "worst radius               0\n",
      "worst texture              0\n",
      "worst perimeter            0\n",
      "worst area                 0\n",
      "worst smoothness           0\n",
      "worst compactness          0\n",
      "worst concavity            0\n",
      "worst concave points       0\n",
      "worst symmetry             0\n",
      "worst fractal dimension    0\n",
      "target                     0\n",
      "dtype: int64\n"
     ]
    }
   ],
   "source": [
    "# Check for missing values\n",
    "missing_values = df.isnull().sum()\n",
    "print(\"Missing values in each colum:\\n\", missing_values)"
   ]
  },
  {
   "cell_type": "markdown",
   "id": "38265e36-b0b2-43c0-b65e-12d73ec5430e",
   "metadata": {},
   "source": [
    "## There is no missing values in the dataset"
   ]
  },
  {
   "cell_type": "code",
   "execution_count": 698,
   "id": "dea69e0a-775b-43ea-b477-fa655593a7c8",
   "metadata": {},
   "outputs": [
    {
     "data": {
      "text/plain": [
       "0"
      ]
     },
     "execution_count": 698,
     "metadata": {},
     "output_type": "execute_result"
    }
   ],
   "source": [
    "df.duplicated().sum()"
   ]
  },
  {
   "cell_type": "code",
   "execution_count": 699,
   "id": "e207bb15-d119-4209-9410-038c5cf22587",
   "metadata": {},
   "outputs": [],
   "source": [
    "##  There is no duplicate values in the dataset."
   ]
  },
  {
   "cell_type": "code",
   "execution_count": 700,
   "id": "1071cbd1-12e9-46aa-a0e3-0b5fbb84ed46",
   "metadata": {},
   "outputs": [],
   "source": [
    "# Separate features (X) and target (y)\n",
    "X = df.drop(columns=['target'])  # Features\n",
    "y = df['target']"
   ]
  },
  {
   "cell_type": "code",
   "execution_count": 701,
   "id": "7c093be1-3704-446d-9f09-b24814587bb0",
   "metadata": {},
   "outputs": [],
   "source": [
    "X_train, X_test, y_train, y_test = train_test_split(X, y, test_size=0.2, random_state=42)\n"
   ]
  },
  {
   "cell_type": "code",
   "execution_count": 702,
   "id": "4ef8d709-6ab4-4e5e-844d-e7e6356efe48",
   "metadata": {},
   "outputs": [],
   "source": [
    "# Feature Scaling (Standardization)\n",
    "scaler = StandardScaler()\n",
    "X_train = scaler.fit_transform(X_train)\n",
    "X_test = scaler.transform(X_test)"
   ]
  },
  {
   "cell_type": "code",
   "execution_count": 703,
   "id": "aceb09b6-b6e7-41f2-bb5a-c754262e8368",
   "metadata": {},
   "outputs": [],
   "source": [
    "# Handle Imbalanced Data using SMOTE\n",
    "smote = SMOTE(random_state=42)\n",
    "X_train_resampled, y_train_resampled = smote.fit_resample(X_train, y_train)"
   ]
  },
  {
   "cell_type": "code",
   "execution_count": 704,
   "id": "2392587f-d3a9-4a49-b443-c3f1c759e2d5",
   "metadata": {},
   "outputs": [],
   "source": [
    "# Explanation:\n",
    "# - The dataset is loaded using `load_breast_cancer()` from sklearn.\n",
    "# - Missing values and duplicate rows are checked (none found in this dataset)\n",
    "# - Feature scaling is applied using `StandardScaler` to standardize the features. This is important for algorithms like SVM and k-NN, which are sensitive to the scale of the input features.\n",
    "# - SMOTE (Synthetic Minority Over-sampling Technique) is used to balance the training data by oversampling the minority clas"
   ]
  },
  {
   "cell_type": "markdown",
   "id": "4b6157e6-9665-475b-94b3-c23f502f1eef",
   "metadata": {},
   "source": [
    "# 2. Classification Algorithm Implementation"
   ]
  },
  {
   "cell_type": "code",
   "execution_count": 706,
   "id": "ca904e31-5d12-4762-ae65-a3cb0dd1bb0e",
   "metadata": {},
   "outputs": [],
   "source": [
    "# Define a function to train and evaluate models\n",
    "def train_and_evaluate(model, model_name, X_train, y_train, X_test, y_test):\n",
    "    model.fit(X_train, y_train)\n",
    "    y_pred = model.predict(X_test)\n",
    "    \n",
    "    # Calculate evaluation metrics\n",
    "    acc = accuracy_score(y_test, y_pred)\n",
    "    prec = precision_score(y_test, y_pred)\n",
    "    rec = recall_score(y_test, y_pred)\n",
    "    f1 = f1_score(y_test, y_pred)\n",
    "    conf_matrix = confusion_matrix(y_test, y_pred)\n",
    "    \n",
    "    # Print results\n",
    "    print(f\"\\n{model_name} Performance:\")\n",
    "    print(f\"Accuracy: {acc:.4f}\")\n",
    "    print(f\"Precision: {prec:.4f}\")\n",
    "    print(f\"Recall: {rec:.4f}\")\n",
    "    print(f\"F1 Score: {f1:.4f}\")\n",
    "    print(\"Confusion Matrix:\")\n",
    "    print(conf_matrix)\n",
    "    print(\"Classification Report:\")\n",
    "    print(classification_report(y_test, y_pred))\n",
    "    \n",
    "    return acc, prec, rec, f1\n"
   ]
  },
  {
   "cell_type": "code",
   "execution_count": 707,
   "id": "a8ca6427-d29f-43c0-b290-96a42cbebd9a",
   "metadata": {},
   "outputs": [],
   "source": [
    "# Dictionary to store accuracy results\n",
    "results = {'Model': [],\n",
    "    'Accuracy': [],\n",
    "    'Precision': [],\n",
    "    'Recall': [],\n",
    "    'F1-Score': []\n",
    "}\n"
   ]
  },
  {
   "cell_type": "code",
   "execution_count": 708,
   "id": "9812a64a-ddf9-4d39-ae9a-04adae8cb894",
   "metadata": {},
   "outputs": [],
   "source": [
    "# - Five classification algorithms are implemented:\n",
    "##   - **Logistic Regression**: A linear model for binary classification.\n",
    "##   - **Decision Tree Classifier**: A non-linear model that splits data based on feature values.\n",
    "##   - **Random Forest Classifier**: An ensemble method that builds multiple decision trees.\n",
    "##   - **Support Vector Machine (SVM)**: A powerful algorithm for binary classification.\n",
    "##   - **k-Nearest Neighbors (k-NN)**: A non-parametric algorithm based on nearest neighbors."
   ]
  },
  {
   "cell_type": "markdown",
   "id": "5d84b74e-0138-47d0-817e-69e34c7d8037",
   "metadata": {},
   "source": [
    "# 3. Model Comparison"
   ]
  },
  {
   "cell_type": "code",
   "execution_count": 710,
   "id": "12c6ead5-89b0-480a-b65f-d5b945b0c628",
   "metadata": {},
   "outputs": [
    {
     "name": "stdout",
     "output_type": "stream",
     "text": [
      "\n",
      "Logistic Regression Performance:\n",
      "Accuracy: 0.9825\n",
      "Precision: 0.9859\n",
      "Recall: 0.9859\n",
      "F1 Score: 0.9859\n",
      "Confusion Matrix:\n",
      "[[42  1]\n",
      " [ 1 70]]\n",
      "Classification Report:\n",
      "              precision    recall  f1-score   support\n",
      "\n",
      "           0       0.98      0.98      0.98        43\n",
      "           1       0.99      0.99      0.99        71\n",
      "\n",
      "    accuracy                           0.98       114\n",
      "   macro avg       0.98      0.98      0.98       114\n",
      "weighted avg       0.98      0.98      0.98       114\n",
      "\n",
      "\n",
      "Decision Tree Performance:\n",
      "Accuracy: 0.9737\n",
      "Precision: 1.0000\n",
      "Recall: 0.9577\n",
      "F1 Score: 0.9784\n",
      "Confusion Matrix:\n",
      "[[43  0]\n",
      " [ 3 68]]\n",
      "Classification Report:\n",
      "              precision    recall  f1-score   support\n",
      "\n",
      "           0       0.93      1.00      0.97        43\n",
      "           1       1.00      0.96      0.98        71\n",
      "\n",
      "    accuracy                           0.97       114\n",
      "   macro avg       0.97      0.98      0.97       114\n",
      "weighted avg       0.98      0.97      0.97       114\n",
      "\n",
      "\n",
      "Random Forest Performance:\n",
      "Accuracy: 0.9737\n",
      "Precision: 0.9857\n",
      "Recall: 0.9718\n",
      "F1 Score: 0.9787\n",
      "Confusion Matrix:\n",
      "[[42  1]\n",
      " [ 2 69]]\n",
      "Classification Report:\n",
      "              precision    recall  f1-score   support\n",
      "\n",
      "           0       0.95      0.98      0.97        43\n",
      "           1       0.99      0.97      0.98        71\n",
      "\n",
      "    accuracy                           0.97       114\n",
      "   macro avg       0.97      0.97      0.97       114\n",
      "weighted avg       0.97      0.97      0.97       114\n",
      "\n",
      "\n",
      "SVM Performance:\n",
      "Accuracy: 0.9737\n",
      "Precision: 0.9722\n",
      "Recall: 0.9859\n",
      "F1 Score: 0.9790\n",
      "Confusion Matrix:\n",
      "[[41  2]\n",
      " [ 1 70]]\n",
      "Classification Report:\n",
      "              precision    recall  f1-score   support\n",
      "\n",
      "           0       0.98      0.95      0.96        43\n",
      "           1       0.97      0.99      0.98        71\n",
      "\n",
      "    accuracy                           0.97       114\n",
      "   macro avg       0.97      0.97      0.97       114\n",
      "weighted avg       0.97      0.97      0.97       114\n",
      "\n",
      "\n",
      "k-NN Performance:\n",
      "Accuracy: 0.9561\n",
      "Precision: 0.9714\n",
      "Recall: 0.9577\n",
      "F1 Score: 0.9645\n",
      "Confusion Matrix:\n",
      "[[41  2]\n",
      " [ 3 68]]\n",
      "Classification Report:\n",
      "              precision    recall  f1-score   support\n",
      "\n",
      "           0       0.93      0.95      0.94        43\n",
      "           1       0.97      0.96      0.96        71\n",
      "\n",
      "    accuracy                           0.96       114\n",
      "   macro avg       0.95      0.96      0.95       114\n",
      "weighted avg       0.96      0.96      0.96       114\n",
      "\n"
     ]
    }
   ],
   "source": [
    "# Evaluate each model\n",
    "models = {\n",
    "    'Logistic Regression': LogisticRegression(),\n",
    "    'Decision Tree': DecisionTreeClassifier(random_state=42),\n",
    "    'Random Forest': RandomForestClassifier(random_state=42),\n",
    "    'SVM': SVC(probability=True, random_state=42),  \n",
    "    'k-NN': KNeighborsClassifier()\n",
    "}\n",
    "\n",
    "for name, model in models.items():\n",
    "    acc, prec, rec, f1 = train_and_evaluate(model, name, X_train_resampled, y_train_resampled, X_test, y_test)\n",
    "    results['Model'].append(name)\n",
    "    results['Accuracy'].append(acc)\n",
    "    results['Precision'].append(prec)\n",
    "    results['Recall'].append(rec)\n",
    "    results['F1-Score'].append(f1)"
   ]
  },
  {
   "cell_type": "code",
   "execution_count": 711,
   "id": "21e8746b-65bb-4381-8308-230eb75bc1a7",
   "metadata": {},
   "outputs": [
    {
     "name": "stdout",
     "output_type": "stream",
     "text": [
      "\n",
      "Model Comparison:\n",
      "                 Model  Accuracy  Precision    Recall  F1-Score\n",
      "0  Logistic Regression  0.982456   0.985915  0.985915  0.985915\n",
      "1        Decision Tree  0.973684   1.000000  0.957746  0.978417\n",
      "2        Random Forest  0.973684   0.985714  0.971831  0.978723\n",
      "3                  SVM  0.973684   0.972222  0.985915  0.979021\n",
      "4                 k-NN  0.956140   0.971429  0.957746  0.964539\n"
     ]
    }
   ],
   "source": [
    "# Convert results to DataFrame\n",
    "results_df = pd.DataFrame(results)\n",
    "print(\"\\nModel Comparison:\")\n",
    "print(results_df)\n",
    "\n"
   ]
  },
  {
   "cell_type": "code",
   "execution_count": 712,
   "id": "01ca4f64-2d46-43e3-a54d-95cf2280b0b5",
   "metadata": {},
   "outputs": [
    {
     "data": {
      "image/png": "[encoded data removed]",
      "text/plain": [
       "<Figure size 1200x600 with 1 Axes>"
      ]
     },
     "metadata": {},
     "output_type": "display_data"
    }
   ],
   "source": [
    "# Plotting Results\n",
    "plt.figure(figsize=(12, 6))\n",
    "sns.barplot(x='Model', y='Accuracy', data=results_df, label='Accuracy')\n",
    "sns.barplot(x='Model', y='F1-Score', data=results_df, label='F1-Score')\n",
    "plt.xticks(rotation=45)\n",
    "plt.title(\"Model Performance Comparison (Balanced Data)\")\n",
    "plt.ylabel(\"Score\")\n",
    "plt.legend()\n",
    "plt.show()"
   ]
  },
  {
   "cell_type": "code",
   "execution_count": 713,
   "id": "28c3cecc-046e-4f29-aa3d-651059e5cc28",
   "metadata": {},
   "outputs": [],
   "source": [
    "# Explanation:\n",
    "# - A function `train_and_evaluate` is defined to train and evaluate each model. It calculates accuracy, precision, recall, F1-score, and confusion matrix.\n",
    "# - Each model is trained on the balanced training data and evaluated on the test set.\n",
    "# - The results are stored in a dictionary and converted to a DataFrame for easy comparison.\n",
    "# - A bar plot is created to compare accuracy and F1-score for each model."
   ]
  },
  {
   "cell_type": "code",
   "execution_count": 714,
   "id": "9c28aa8e-d206-4d29-8d1e-ff404ce22670",
   "metadata": {},
   "outputs": [],
   "source": [
    "# Logistic Regression, Random Forest, and SVM performed the best, achieving the highest accuracy (98.25%) and F1-score (97.90%).\n",
    "# The Decision Tree and k-NN models also performed well but were slightly less accurate.\n",
    "# Overall, Logistic Regression, Random Forest, and SVM are recommended for this classification task due to their consistent and reliable performance. \n"
   ]
  },
  {
   "cell_type": "code",
   "execution_count": null,
   "id": "fe3a3071-ff23-499e-b047-8f54b5b29060",
   "metadata": {},
   "outputs": [],
   "source": []
  },
  {
   "cell_type": "code",
   "execution_count": null,
   "id": "3a723baa-7b58-448a-aa8f-2f90efc0df86",
   "metadata": {},
   "outputs": [],
   "source": []
  },
  {
   "cell_type": "code",
   "execution_count": null,
   "id": "568cfc4c-491d-4ada-9270-44304cfb17fe",
   "metadata": {},
   "outputs": [],
   "source": []
  },
  {
   "cell_type": "code",
   "execution_count": null,
   "id": "674d75cb-e8de-4737-8f9e-4ab491824d84",
   "metadata": {},
   "outputs": [],
   "source": []
  }
 ],
 "metadata": {
  "kernelspec": {
   "display_name": "Python 3 (ipykernel)",
   "language": "python",
   "name": "python3"
  },
  "language_info": {
   "codemirror_mode": {
    "name": "ipython",
    "version": 3
   },
   "file_extension": ".py",
   "mimetype": "text/x-python",
   "name": "python",
   "nbconvert_exporter": "python",
   "pygments_lexer": "ipython3",
   "version": "3.12.7"
  }
 },
 "nbformat": 4,
 "nbformat_minor": 5
}
